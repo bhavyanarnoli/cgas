{
 "cells": [
  {
   "cell_type": "markdown",
   "metadata": {
    "id": "w_Ss4SyOtpJR"
   },
   "source": [
    "# **Question 1**"
   ]
  },
  {
   "cell_type": "markdown",
   "metadata": {
    "id": "0C3NGoFRt81z"
   },
   "source": [
    "## **Question 1 (a)**"
   ]
  },
  {
   "cell_type": "code",
   "execution_count": 1,
   "metadata": {
    "id": "qjB5nSmEtvx4"
   },
   "outputs": [],
   "source": [
    "import sys\n",
    "import json\n",
    "import re\n",
    "import argparse\n",
    "import csv\n",
    "from bs4 import BeautifulSoup\n",
    "import time\n",
    "import requests\n",
    "from requests.adapters import HTTPAdapter, Retry"
   ]
  },
  {
   "cell_type": "markdown",
   "metadata": {
    "id": "jhkXAsl2t44k"
   },
   "source": [
    "utility functions to scrape recipes"
   ]
  },
  {
   "cell_type": "code",
   "execution_count": 2,
   "metadata": {
    "id": "2Tn7kKjTeFNg"
   },
   "outputs": [],
   "source": [
    "recipe_url_regex = r\"https://www\\.allrecipes\\.com/recipe/\\d+/.+\"\n",
    "recipes_url_regex = r\"https:\\/\\/www\\.allrecipes\\.com\\/recipes\\/\\d+\\/.+\\/\"\n",
    "\n",
    "class ProgressFileError(Exception):\n",
    "    pass\n",
    "\n",
    "\n",
    "def get_proxies(file_path):\n",
    "    with open(file_path, \"r\") as f:\n",
    "        proxies = f.read().split(\"\\n\")\n",
    "    return proxies\n",
    "\n",
    "\n",
    "def rotate_proxy(proxy_counter, proxies):\n",
    "    proxy_counter += 1\n",
    "    proxy_counter %= len(proxies)\n",
    "    return proxy_counter\n"
   ]
  },
  {
   "cell_type": "code",
   "execution_count": 3,
   "metadata": {
    "id": "NEphLvdIttOz"
   },
   "outputs": [],
   "source": [
    "def parse_category_urls(s, proxy_counter, proxies, max_categories, use_proxy=False):\n",
    "    global recipes_url_regex\n",
    "    recipes_categories = []\n",
    "    categories_req = None\n",
    "    try:\n",
    "        categories_req = s.get(\"https://www.allrecipes.com/recipes-a-z-6735880\")\n",
    "    except Exception:\n",
    "        if use_proxy:\n",
    "            proxy_counter = rotate_proxy(proxy_counter, proxies)\n",
    "\n",
    "    if categories_req and categories_req.status_code == 200:\n",
    "        soup = BeautifulSoup(categories_req.text, \"html.parser\")\n",
    "\n",
    "        links = soup.find_all(\"a\", class_=\"mntl-link-list__link\")\n",
    "        for link in links:\n",
    "            if max_categories == len(recipes_categories):\n",
    "                break\n",
    "            href = link.get(\"href\")\n",
    "            if href and re.match(recipes_url_regex, href):\n",
    "                recipes_categories.append(href)\n",
    "    else:\n",
    "        print(\"Failed to retrieve categories.\")\n",
    "\n",
    "    return recipes_categories, proxy_counter\n",
    "\n",
    "def get_category(s, category_url, proxy_counter, proxies, use_proxy=False):\n",
    "    category_req = None\n",
    "    try:\n",
    "        category_req = s.get(category_url)\n",
    "    except Exception as e:\n",
    "        if use_proxy:\n",
    "            proxy_counter = rotate_proxy(proxy_counter, proxies)\n",
    "    return category_req, proxy_counter\n",
    "\n",
    "def get_category_recipes_urls(category):\n",
    "    global recipe_url_regex\n",
    "    category_urls = []\n",
    "    recipes_soup = BeautifulSoup(category.text, \"html.parser\")\n",
    "    recipes_soup = recipes_soup.find_all(\"a\", {\"class\": \"card\"})\n",
    "    for k, recipe_link in enumerate(recipes_soup):\n",
    "        if re.match(recipe_url_regex, recipe_link[\"href\"]):\n",
    "            category_urls.append(recipe_link[\"href\"])\n",
    "    return category_urls\n",
    "\n",
    "def get_recipe(s, recipe_url, proxy_counter, proxies, use_proxy=False):\n",
    "    recipe_req = None\n",
    "    data = None\n",
    "    try:\n",
    "        recipe_req = s.get(recipe_url)\n",
    "    except Exception:\n",
    "        if use_proxy:\n",
    "            proxy_counter = rotate_proxy(proxy_counter, proxies)\n",
    "    try:\n",
    "        if recipe_req and recipe_req.status_code == 200:\n",
    "            recipe_soup = BeautifulSoup(recipe_req.text, \"html.parser\")\n",
    "            recipe_data = recipe_soup.find(\n",
    "                \"script\", {\"class\": \"allrecipes-schema\"})\n",
    "\n",
    "            headline = json.loads(recipe_data.text)[0].get(\"headline\", \"No headline found\")\n",
    "            recipe_instructions = json.loads(recipe_data.text)[0].get(\"recipeInstructions\", [])\n",
    "            recipe_ingredients = json.loads(recipe_data.text)[0].get(\"recipeIngredient\", [])\n",
    "            recipe_prep_time = json.loads(recipe_data.text)[0].get(\"prepTime\", \"No prep time found\")\n",
    "            with open(\"recipes.csv\", mode=\"a\", newline='', encoding=\"utf-8\") as file:\n",
    "                writer = csv.writer(file)\n",
    "                if file.tell() == 0:\n",
    "                    writer.writerow([\"Recipe name\", \"Recipe URL\", \"List of ingredient phrases\", \"List of instructions\", \"Preparation time\"])\n",
    "                formatted_instructions = \" \".join([step['text'] for step in recipe_instructions])\n",
    "                formatted_ingredients = \" ; \".join(recipe_ingredients)\n",
    "                if (recipe_prep_time[0] == 'P') and (recipe_prep_time[1] == 'T'):\n",
    "                    recipe_prep_time = recipe_prep_time[2:-1] + \" mins\"\n",
    "                writer.writerow([headline, recipe_url,  formatted_ingredients, formatted_instructions,  recipe_prep_time])\n",
    "\n",
    "    except Exception:\n",
    "        pass\n",
    "    return None, proxy_counter\n"
   ]
  },
  {
   "cell_type": "markdown",
   "metadata": {
    "id": "u9dzGzNRuCs6"
   },
   "source": [
    "variables to run the main scrape function"
   ]
  },
  {
   "cell_type": "markdown",
   "metadata": {
    "id": "JLnK8FNHvc-F"
   },
   "source": []
  },
  {
   "cell_type": "code",
   "execution_count": 4,
   "metadata": {
    "id": "kyFBFS0Pt1V6"
   },
   "outputs": [],
   "source": [
    "\n",
    "max_recipes = 100000\n",
    "max_categories = 30000\n",
    "output_file = 'recipes.json'\n",
    "use_proxy = None\n",
    "proxy_file = \"proxies.txt\"\n",
    "\n",
    "s = requests.Session()\n",
    "proxy_counter = 0\n",
    "\n",
    "retries = Retry(total=5,\n",
    "                backoff_factor=0.1,\n",
    "                status_forcelist=[500, 502, 503, 504])\n",
    "s.mount('http://', HTTPAdapter(max_retries=retries))\n",
    "s.headers = {\n",
    "    \"User-Agent\": \"Mozilla/5.0 (X11 Linux x86_64) AppleWebKit/537.36 (KHTML, like Gecko) Chrome /\"\n",
    "}\n",
    "s.timeout = 10\n",
    "\n",
    "proxies = []\n",
    "if use_proxy:\n",
    "    proxies = get_proxies(proxy_file)\n",
    "    s.proxies = proxies\n",
    "\n",
    "recipe_categories, proxy_counter = parse_category_urls(s, proxy_counter, proxies, max_categories, use_proxy)\n",
    "recipes_count = 0"
   ]
  },
  {
   "cell_type": "code",
   "execution_count": 5,
   "metadata": {
    "id": "LLkz2TqsDc7y"
   },
   "outputs": [],
   "source": [
    "def scrape_recipes(s, recipe_categories, max_categories, max_recipes):\n",
    "    global proxy_counter, recipes_count, proxies, use_proxy\n",
    "    for i, category_url in enumerate(recipe_categories):\n",
    "        if recipes_count >= max_recipes:\n",
    "            break\n",
    "        if i == max_categories:\n",
    "            break\n",
    "\n",
    "        category, proxy_counter = get_category(s, category_url, proxy_counter, proxies, use_proxy)\n",
    "\n",
    "        category_urls = get_category_recipes_urls(category)\n",
    "        for j, recipe_url in enumerate(category_urls):\n",
    "            if recipes_count >= max_recipes:\n",
    "                break\n",
    "            recipes_count += 1\n",
    "            recipe_data, proxy_counter = get_recipe(\n",
    "                s, recipe_url, proxy_counter, proxies, use_proxy)\n",
    "\n",
    "scrape_recipes(s, recipe_categories, max_categories, max_recipes)"
   ]
  },
  {
   "cell_type": "markdown",
   "metadata": {
    "id": "ML1ZDKpU4u44"
   },
   "source": [
    "**Question 1 (b)**"
   ]
  },
  {
   "cell_type": "code",
   "execution_count": 6,
   "metadata": {
    "id": "zE299oPXASk3"
   },
   "outputs": [
    {
     "ename": "ModuleNotFoundError",
     "evalue": "No module named 'spacy'",
     "output_type": "error",
     "traceback": [
      "\u001b[1;31m---------------------------------------------------------------------------\u001b[0m",
      "\u001b[1;31mModuleNotFoundError\u001b[0m                       Traceback (most recent call last)",
      "Cell \u001b[1;32mIn[6], line 2\u001b[0m\n\u001b[0;32m      1\u001b[0m \u001b[38;5;28;01mimport\u001b[39;00m \u001b[38;5;21;01mpandas\u001b[39;00m \u001b[38;5;28;01mas\u001b[39;00m \u001b[38;5;21;01mpd\u001b[39;00m\n\u001b[1;32m----> 2\u001b[0m \u001b[38;5;28;01mimport\u001b[39;00m \u001b[38;5;21;01mspacy\u001b[39;00m\n\u001b[0;32m      3\u001b[0m \u001b[38;5;28;01mimport\u001b[39;00m \u001b[38;5;21;01mre\u001b[39;00m\n\u001b[0;32m      5\u001b[0m nlp \u001b[38;5;241m=\u001b[39m spacy\u001b[38;5;241m.\u001b[39mload(\u001b[38;5;124m\"\u001b[39m\u001b[38;5;124men_core_web_sm\u001b[39m\u001b[38;5;124m\"\u001b[39m)\n",
      "\u001b[1;31mModuleNotFoundError\u001b[0m: No module named 'spacy'"
     ]
    }
   ],
   "source": [
    "import pandas as pd\n",
    "import spacy\n",
    "import re\n",
    "\n",
    "nlp = spacy.load(\"en_core_web_sm\")\n",
    "\n",
    "fluff_words = [\n",
    "    'or as needed', 'or to', 'taste', 'fresh', 'finely', 'tablespoon', 'teaspoon', 'cup', 'pound', 'ounce',\n",
    "    'gram', 'liter', 'ml', 'pinch', 'dash', 'clove', 'stick', 'slice', 'chopped', 'minced', 'diced',\n",
    "    'tablespoons', 'teaspoons', 'cups', 'pounds', 'ounces', 'grams', 'liters', 'cold', 'unsalted',\n",
    "    'large', 'medium', 'small', 'sliced', 'cubed', 'shredded', 'grated', 'crushed', 'whole', 'baked',\n",
    "    'roasted', 'steamed', 'boiled', 'cooked', 'raw', 'sweetened', 'unsweetened', 'browned', 'finely',\n",
    "    'coarsely', 'medium-sized', 'garnished', 'with', 'thinly', 'thickly', 'and', 'to', '(', ')', 'melted',\n",
    "    'inch', 'thick', 'halved', 'divided', 'beaten', 'or', 'cold'\n",
    "]\n"
   ]
  },
  {
   "cell_type": "code",
   "execution_count": null,
   "metadata": {
    "id": "7_yzci3EDbEw"
   },
   "outputs": [],
   "source": [
    "def clean_ingredient(ingredient):\n",
    "    ingredient = re.sub(r'\\(.*?\\)', '', ingredient)\n",
    "    for fluff in fluff_words:\n",
    "        ingredient = re.sub(r'\\b' + re.escape(fluff) + r'\\b', '', ingredient)\n",
    "    ingredient = re.sub(r'\\b\\d+(\\.\\d+)?\\b', '', ingredient)\n",
    "    ingredient = re.sub(r'\\s+', ' ', ingredient).strip()\n",
    "    ingredient = re.sub(r',\\s*$', '', ingredient)\n",
    "    return ingredient\n",
    "\n",
    "\n",
    "def extract_ingredients_ner(ingredient_text):\n",
    "    ingredient_text = clean_ingredient(ingredient_text)\n",
    "    doc = nlp(ingredient_text)\n",
    "    ingredients = []\n",
    "\n",
    "    noun_phrases = [chunk.text for chunk in doc.noun_chunks]\n",
    "    if noun_phrases:\n",
    "      ingredients.extend(noun_phrases)\n",
    "    else:\n",
    "      ingredients.append(ingredient_text)\n",
    "\n",
    "    cleaned_ingredients = [clean_ingredient(ingredient) for ingredient in ingredients]\n",
    "    return cleaned_ingredients\n",
    "\n",
    "df = pd.read_csv(\"recipes.csv\")\n",
    "\n",
    "df['Recipe ID'] = ['Recipe ' + str(i+1) for i in range(len(df))]\n",
    "\n",
    "ingredient_data = []\n",
    "for index, row in df.iterrows():\n",
    "    recipe_id = row['Recipe ID']\n",
    "    ingredient_phrases = row['List of ingredient phrases'].split(' ; ')\n",
    "    for phrase in ingredient_phrases:\n",
    "        ingredients = extract_ingredients_ner(phrase)\n",
    "\n",
    "        for ingredient in ingredients:\n",
    "            if ingredient:\n",
    "                ingredient_data.append({\n",
    "                    'Recipe ID': recipe_id,\n",
    "                    'Ingredient': ingredient\n",
    "                })\n",
    "\n",
    "ingredient_df = pd.DataFrame(ingredient_data)\n",
    "\n",
    "ingredient_df = ingredient_df.drop_duplicates()\n",
    "\n",
    "ingredient_df.to_csv(\"non_duplicate_ingredients.csv\", index=False)\n",
    "\n",
    "print(\"Recipe IDs assigned, non-duplicate ingredients extracted, cleaned of numbers and fluff words, and saved to non_duplicate_ingredients.csv\")\n"
   ]
  },
  {
   "cell_type": "markdown",
   "metadata": {
    "id": "RPOMM2xaDh_R"
   },
   "source": [
    "**Question 1 (c)**"
   ]
  },
  {
   "cell_type": "code",
   "execution_count": null,
   "metadata": {
    "id": "bwaq-0CSDhdm"
   },
   "outputs": [],
   "source": [
    "import pandas as pd\n",
    "import random\n",
    "\n",
    "df = pd.read_csv(\"non_duplicate_ingredients.csv\")\n",
    "\n",
    "if len(df['Recipe ID'].unique()) < 100:\n",
    "    raise ValueError(\"Not enough unique recipes to choose 100.\")\n",
    "\n",
    "random_recipe_ids = random.sample(df['Recipe ID'].unique().tolist(), 100)\n",
    "\n",
    "filtered_df = df[df['Recipe ID'].isin(random_recipe_ids)]\n",
    "\n",
    "output_lines = []\n",
    "\n",
    "for recipe_id in random_recipe_ids:\n",
    "\n",
    "    ingredient_phrases = filtered_df[filtered_df['Recipe ID'] == recipe_id]['Ingredient']\n",
    "    for ingredient in ingredient_phrases:\n",
    "        split_ingredients = [i.strip() for i in ingredient.split(',') if i.strip()]\n",
    "        for split_ingredient in split_ingredients:\n",
    "            output_lines.append(f\"{recipe_id}—{split_ingredient}\")\n",
    "\n",
    "with open(\"recipes_ingredients.txt\", \"w\") as file:\n",
    "    file.write(\"\\n\".join(output_lines))\n",
    "\n",
    "print(\"Recipe IDs and ingredient information saved to recipes_ingredients.txt\")\n"
   ]
  },
  {
   "cell_type": "markdown",
   "metadata": {
    "id": "6G7y6twliAWm"
   },
   "source": [
    "# **Question 2**"
   ]
  },
  {
   "cell_type": "markdown",
   "metadata": {
    "id": "T2GJc0SYjl4p"
   },
   "source": [
    "**Question 2 (a)**"
   ]
  },
  {
   "cell_type": "code",
   "execution_count": null,
   "metadata": {
    "colab": {
     "base_uri": "https://localhost:8080/"
    },
    "id": "QQMtreckiD8f",
    "outputId": "7052f1e7-4a14-4d4d-a4bc-76b3fcf7980e"
   },
   "outputs": [
    {
     "name": "stdout",
     "output_type": "stream",
     "text": [
      "Unique ingredients and their frequencies saved to unique_ingredient_frequencies.csv\n"
     ]
    }
   ],
   "source": [
    "import pandas as pd\n",
    "\n",
    "# Load the CSV file\n",
    "file_path = 'non_duplicate_ingredients.csv'  # Replace with the path to your CSV file\n",
    "df = pd.read_csv(file_path)\n",
    "\n",
    "# Clean the ingredient column (lowercase, strip whitespace)\n",
    "df['Ingredient'] = df['Ingredient'].str.lower().str.strip()\n",
    "\n",
    "# Count the unique ingredients and their frequencies\n",
    "ingredient_counts = df['Ingredient'].value_counts()\n",
    "\n",
    "# Save the result to a new CSV file\n",
    "output_file_path = 'unique_ingredient_frequencies.csv'\n",
    "ingredient_counts.to_csv(output_file_path, header=['Frequency'])\n",
    "\n",
    "# Print the result\n",
    "print(f'Unique ingredients and their frequencies saved to {output_file_path}')\n"
   ]
  },
  {
   "cell_type": "markdown",
   "metadata": {
    "id": "vG5PiXQIjwNi"
   },
   "source": [
    "**Question 2 (b)**"
   ]
  },
  {
   "cell_type": "code",
   "execution_count": null,
   "metadata": {
    "colab": {
     "base_uri": "https://localhost:8080/",
     "height": 582
    },
    "id": "M398LBBhjzXk",
    "outputId": "e7fb82df-7854-4751-ca7c-0197c0397ea9"
   },
   "outputs": [
    {
     "name": "stdout",
     "output_type": "stream",
     "text": [
      "Recipe size distribution plot with probabilities saved to recipe_size_distribution_probability.png\n"
     ]
    },
    {
     "data": {
      "image/png": "[encoded data removed]",
      "text/plain": [
       "<Figure size 1000x600 with 1 Axes>"
      ]
     },
     "metadata": {},
     "output_type": "display_data"
    }
   ],
   "source": [
    "import pandas as pd\n",
    "import matplotlib.pyplot as plt\n",
    "\n",
    "# Load the CSV file\n",
    "file_path = 'non_duplicate_ingredients.csv'  # Replace with the path to your CSV file\n",
    "df = pd.read_csv(file_path)\n",
    "\n",
    "# Clean the ingredient column (lowercase, strip whitespace)\n",
    "df['Ingredient'] = df['Ingredient'].str.lower().str.strip()\n",
    "\n",
    "# Count the number of ingredients per recipe\n",
    "recipe_sizes = df.groupby('Recipe ID').size()\n",
    "\n",
    "# Compute the average recipe size\n",
    "average_size = round(recipe_sizes.mean())\n",
    "\n",
    "# Plot the recipe size distribution normalized to probabilities\n",
    "plt.figure(figsize=(10, 6))\n",
    "plt.hist(recipe_sizes, bins=30, density=True, color='skyblue', edgecolor='black')\n",
    "plt.axvline(average_size, color='red', linestyle='dashed', linewidth=1, label=f'Average Size (s): {average_size:.2f}')\n",
    "plt.title('Recipe Size Distribution')\n",
    "plt.xlabel('Number of Ingredients per Recipe (s)')\n",
    "plt.ylabel('P(s)')\n",
    "plt.legend()\n",
    "\n",
    "# Save the plot to a file\n",
    "output_plot_path = 'recipe_size_distribution_probability.png'\n",
    "plt.savefig(output_plot_path)\n",
    "\n",
    "# Print the result\n",
    "print(f'Recipe size distribution plot with probabilities saved to {output_plot_path}')\n"
   ]
  },
  {
   "cell_type": "code",
   "execution_count": null,
   "metadata": {
    "colab": {
     "base_uri": "https://localhost:8080/",
     "height": 442
    },
    "id": "YCves5KdkCDJ",
    "outputId": "1f04c88e-ab97-4435-cc90-38f058735b8a"
   },
   "outputs": [
    {
     "name": "stdout",
     "output_type": "stream",
     "text": [
      "Cumulative distribution plot saved to cumulative_recipe_size_distribution.png\n"
     ]
    },
    {
     "data": {
      "image/png": "[encoded data removed]",
      "text/plain": [
       "<Figure size 1000x600 with 1 Axes>"
      ]
     },
     "metadata": {},
     "output_type": "display_data"
    }
   ],
   "source": [
    "import pandas as pd\n",
    "import matplotlib.pyplot as plt\n",
    "\n",
    "# Load the CSV file\n",
    "file_path = 'non_duplicate_ingredients.csv'  # Replace with the path to your CSV file\n",
    "df = pd.read_csv(file_path)\n",
    "\n",
    "# Clean the ingredient column (lowercase, strip whitespace)\n",
    "df['Ingredient'] = df['Ingredient'].str.lower().str.strip()\n",
    "\n",
    "# Count the number of ingredients per recipe\n",
    "recipe_sizes = df.groupby('Recipe ID').size()\n",
    "\n",
    "# Compute the cumulative distribution of recipe sizes\n",
    "recipe_sizes_sorted = recipe_sizes.sort_values()\n",
    "cumulative = recipe_sizes_sorted.cumsum() / recipe_sizes_sorted.sum()\n",
    "\n",
    "# Plot the cumulative distribution of recipe sizes\n",
    "plt.figure(figsize=(10, 6))\n",
    "plt.plot(recipe_sizes_sorted, cumulative, marker='o', linestyle='-', color='skyblue')\n",
    "plt.title('Cumulative Distribution of Recipe Sizes')\n",
    "plt.xlabel('Number of Ingredients per Recipe')\n",
    "plt.ylabel('Cumulative Probability')\n",
    "plt.grid(True)\n",
    "\n",
    "# Save the plot to a file\n",
    "output_plot_path = 'cumulative_recipe_size_distribution.png'\n",
    "plt.savefig(output_plot_path)\n",
    "\n",
    "# Print the result\n",
    "print(f'Cumulative distribution plot saved to {output_plot_path}')\n"
   ]
  },
  {
   "cell_type": "markdown",
   "metadata": {
    "id": "t25KTaR76ZmP"
   },
   "source": [
    "Ques 3 ) Frequency and Rank distribution of Recipe Ingredients"
   ]
  },
  {
   "cell_type": "code",
   "execution_count": null,
   "metadata": {
    "id": "btTOW5-gFKET"
   },
   "outputs": [],
   "source": [
    "import matplotlib.pyplot as plt\n",
    "import pandas as pd\n",
    "\n",
    "df_ingredients = pd.read_csv('non_duplicate_ingredients.csv')\n",
    "ingredient_counts = df_ingredients['Ingredient'].value_counts()\n",
    "\n",
    "ranked_ingredients = ingredient_counts.reset_index()\n",
    "ranked_ingredients.columns = ['Ingredient', 'Frequency']\n",
    "ranked_ingredients['Rank'] = ranked_ingredients['Frequency'].rank(method='min', ascending=False)\n",
    "\n",
    "ranked_ingredients['Normalized Frequency'] = ranked_ingredients['Frequency'] / ranked_ingredients['Frequency'].max()\n"
   ]
  },
  {
   "cell_type": "code",
   "execution_count": null,
   "metadata": {
    "colab": {
     "base_uri": "https://localhost:8080/",
     "height": 398
    },
    "id": "wNGzD29F6ZPs",
    "outputId": "ac6f8bb4-d8cb-477a-ed14-3e713778dd6b"
   },
   "outputs": [
    {
     "data": {
      "image/png": "[encoded data removed]",
      "text/plain": [
       "<Figure size 1200x600 with 1 Axes>"
      ]
     },
     "metadata": {},
     "output_type": "display_data"
    },
    {
     "name": "stdout",
     "output_type": "stream",
     "text": [
      "Frequency-rank distribution plot saved as 'frequency_rank_distribution.svg' and 'frequency_rank_distribution.png'.\n"
     ]
    }
   ],
   "source": [
    "\n",
    "plt.figure(figsize=(12, 6))\n",
    "\n",
    "plt.loglog(ranked_ingredients['Rank'], ranked_ingredients['Normalized Frequency'], marker='o', linestyle='none', color='blue')\n",
    "plt.xlabel('Rank')\n",
    "plt.ylabel('Normalized Frequency')\n",
    "plt.title('Frequency-Rank Distribution of Ingredients')\n",
    "\n",
    "plt.savefig('Q3_frequency_rank_distribution.png')\n",
    "plt.savefig('Q3_frequency_rank_distribution.svg')\n",
    "\n",
    "plt.show()\n",
    "\n",
    "print(\"Frequency-rank distribution plot saved as 'frequency_rank_distribution.svg' and 'frequency_rank_distribution.png'.\")"
   ]
  }
 ],
 "metadata": {
  "colab": {
   "provenance": []
  },
  "kernelspec": {
   "display_name": "Python 3",
   "name": "python3"
  },
  "language_info": {
   "codemirror_mode": {
    "name": "ipython",
    "version": 3
   },
   "file_extension": ".py",
   "mimetype": "text/x-python",
   "name": "python",
   "nbconvert_exporter": "python",
   "pygments_lexer": "ipython3",
   "version": "3.10.5"
  }
 },
 "nbformat": 4,
 "nbformat_minor": 0
}
